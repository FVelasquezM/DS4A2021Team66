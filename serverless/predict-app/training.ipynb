{
 "cells": [
  {
   "cell_type": "markdown",
   "id": "83a57396",
   "metadata": {},
   "source": [
    "## Training Notebook\n",
    "\n",
    "This notebook illustrates training of a simple model to classify digits using the MNIST dataset. This code is used to train the model included with the templates. This is meant to be a starter model to show you how to set up Serverless applications to do inferences. For deeper understanding of how to train a good model for MNIST, we recommend literature from the [MNIST website](http://yann.lecun.com/exdb/mnist/). The dataset is made available under a [Creative Commons Attribution-Share Alike 3.0](https://creativecommons.org/licenses/by-sa/3.0/) license."
   ]
  },
  {
   "cell_type": "markdown",
   "id": "48d0a541",
   "metadata": {},
   "source": [
    "## Tensorflow Model Training\n",
    "\n",
    "For this example, we will train a simple CNN classifier using Tensorflow to classify the MNIST digits. We will then freeze the model in the `.h5` format. This is same as the starter model file included with the SAM templates."
   ]
  },
  {
   "cell_type": "code",
   "execution_count": 103,
   "id": "7fdaebfb",
   "metadata": {},
   "outputs": [],
   "source": [
    "import tensorflow as tf\n",
    "from keras import backend as K\n",
    "import tifffile as tiff\n",
    "import numpy as np\n",
    "import pandas as pd\n",
    "import cv2\n",
    "from shapely.geometry import MultiPolygon, Polygon\n",
    "from shapely.wkt import loads as wkt_loads\n",
    "import shapely.wkt\n",
    "import shapely.affinity\n",
    "from collections import defaultdict\n",
    "\n",
    "\n",
    "size = 160\n",
    "s = 835\n",
    "smooth = 1e-12\n",
    "\n",
    "def mask_to_polygons(mask, epsilon=5, min_area=1.):\n",
    "    \"\"\"\n",
    "    converts a mask into polygons.\n",
    "    \"\"\"\n",
    "    \n",
    "    contours, hierarchy = cv2.findContours(((mask == 1) * 255).astype(np.uint8), cv2.RETR_CCOMP, cv2.CHAIN_APPROX_TC89_KCOS)\n",
    "    approx_contours = [cv2.approxPolyDP(cnt, epsilon, True)\n",
    "                       for cnt in contours]\n",
    "    if not contours:\n",
    "        return MultiPolygon()\n",
    "\n",
    "    cnt_children = defaultdict(list)\n",
    "    child_contours = set()\n",
    "    assert hierarchy.shape[0] == 1\n",
    "\n",
    "    for idx, (_, _, _, parent_idx) in enumerate(hierarchy[0]):\n",
    "        if parent_idx != -1:\n",
    "            child_contours.add(idx)\n",
    "            cnt_children[parent_idx].append(approx_contours[idx])\n",
    "\n",
    "    # create actual polygons filtering by area (removes artifacts)\n",
    "    all_polygons = []\n",
    "    for idx, cnt in enumerate(approx_contours):\n",
    "        if idx not in child_contours and cv2.contourArea(cnt) >= min_area:\n",
    "            assert cnt.shape[1] == 1\n",
    "            poly = Polygon(\n",
    "                shell=cnt[:, 0, :],\n",
    "                holes=[c[:, 0, :] for c in cnt_children.get(idx, [])\n",
    "                       if cv2.contourArea(c) >= min_area])\n",
    "            all_polygons.append(poly)\n",
    "    # approximating polygons might have created invalid ones, fix them\n",
    "    all_polygons = MultiPolygon(all_polygons)\n",
    "    if not all_polygons.is_valid:\n",
    "        all_polygons = all_polygons.buffer(0)\n",
    "        # Sometimes buffer() converts a simple Multipolygon to just a Polygon,\n",
    "        # need to keep it a Multi throughout\n",
    "        if all_polygons.type == 'Polygon':\n",
    "            all_polygons = MultiPolygon([all_polygons])\n",
    "    return all_polygons\n",
    "\n",
    "def adjust_contrast(bands, lower_percent=2, higher_percent=98):\n",
    "    \"\"\"\n",
    "    to adjust the contrast of the image \n",
    "    bands is the image \n",
    "    \"\"\"\n",
    "    out = np.zeros_like(bands).astype(np.float32)\n",
    "    n = bands.shape[2]\n",
    "    for i in range(n):\n",
    "        a = 0  # np.min(band)\n",
    "        b = 1  # np.max(band)\n",
    "        c = np.percentile(bands[:, :, i], lower_percent)\n",
    "        d = np.percentile(bands[:, :, i], higher_percent)\n",
    "        t = a + (bands[:, :, i] - c) * (b - a) / (d - c)\n",
    "        t[t < a] = a\n",
    "        t[t > b] = b\n",
    "        out[:, :, i] = t\n",
    "\n",
    "    return out.astype(np.float32)\n",
    "\n",
    "#def M(image_id):\n",
    "#    # __author__ = amaia\n",
    "#    # https://www.kaggle.com/aamaia/dstl-satellite-imagery-feature-detection/rgb-using-m-bands-example\n",
    "#    zip_path = 'sixteen_band.zip'\n",
    "#    tgtImg = '{}_M.tif'.format(image_id)\n",
    "#    with zipfile.ZipFile(zip_path) as myzip:\n",
    "#        files_in_zip = myzip.namelist()\n",
    "#        for fname in files_in_zip:\n",
    "#            if fname.endswith(tgtImg):\n",
    "#                with myzip.open(fname) as myfile:\n",
    "#                    img = tiff.imread(myfile)\n",
    "#                    img = np.rollaxis(img, 0, 3)\n",
    "#                    return img\n",
    "def M(img_pat):\n",
    "    with open(\"vlj_img_1029.tiff\", 'rb') as myfile:\n",
    "        img = tiff.imread(myfile)\n",
    "        img = np.rollaxis(img, 0, 3)\n",
    "        return img\n",
    "\n",
    "\n",
    "class Dataset:\n",
    "  \n",
    "    def __init__(self, images_dir, mask_dir):\n",
    "        \n",
    "        self.ids = images_dir\n",
    "        self.images_fps = images_dir\n",
    "        self.masks_fps  = mask_dir\n",
    "    \n",
    "    def __getitem__(self, i):\n",
    "        \n",
    "        # read data\n",
    "        image = np.load(self.images_fps[i]) \n",
    "        mask  = np.load(self.masks_fps[i])\n",
    "\n",
    "          \n",
    "        image = np.stack(image, axis=-1).astype('float')\n",
    "        mask = np.stack(mask, axis=-1).astype('float')\n",
    "\n",
    "        #image = np.transpose(image, (1,0,2)) \n",
    "        #mask = np.transpose(mask, (1,0,2)) \n",
    "    \n",
    "        image = np.transpose(image, (0,2,1)) \n",
    "        mask = np.transpose(mask, (0,2,1)) \n",
    "  \n",
    "        return image, mask\n",
    "      \n",
    "    def __len__(self):\n",
    "        return len(self.ids)\n",
    "\n",
    "class Dataloder(tf.keras.utils.Sequence):    \n",
    "    def __init__(self, dataset, batch_size=1, shuffle=False):\n",
    "        self.dataset = dataset\n",
    "        self.batch_size = batch_size\n",
    "        self.shuffle = shuffle\n",
    "        self.indexes = np.arange(len(dataset))\n",
    "\n",
    "    def __getitem__(self, i):\n",
    "        \n",
    "        # collect batch data\n",
    "        start = i * self.batch_size\n",
    "        stop = (i + 1) * self.batch_size\n",
    "        data = []\n",
    "        for j in range(start, stop):\n",
    "            data.append(self.dataset[j])\n",
    "        \n",
    "        batch = [np.stack(samples, axis=0) for samples in zip(*data)]\n",
    "        \n",
    "        #print(len(batch))\n",
    "        return tuple(batch)\n",
    "    \n",
    "    def __len__(self):\n",
    "        return len(self.indexes) // self.batch_size\n",
    "\n",
    "\n",
    "def jaccard_coef(y_true, y_pred):\n",
    "    \"\"\"\n",
    "    Jaccard Index: Intersection over Union.\n",
    "    J(A,B) = |A∩B| / |A∪B| \n",
    "         = |A∩B| / |A|+|B|-|A∩B|\n",
    "    \"\"\"\n",
    "    intersection = K.sum(y_true * y_pred, axis=[0, -1, -2])\n",
    "    total = K.sum(y_true + y_pred, axis=[0, -1, -2])\n",
    "    union = total - intersection\n",
    "\n",
    "    jac = (intersection + smooth) / (union+ smooth)\n",
    "\n",
    "    return K.mean(jac)\n",
    "\n",
    "def SegNet():\n",
    "    \n",
    "    tf.random.set_seed(32)\n",
    "    classes= 10\n",
    "    img_input = tf.keras.layers.Input(shape=(size, size, 8))\n",
    "    x = img_input\n",
    "\n",
    "    # Encoder \n",
    "    \n",
    "    x = tf.keras.layers.Conv2D(64, (3, 3), activation='relu', padding='same', kernel_initializer = tf.keras.initializers.he_normal(seed= 23))(x)\n",
    "    x = tf.keras.layers.BatchNormalization()(x)\n",
    "    x = tf.keras.layers.Conv2D(64, (3, 3), activation='relu', padding='same',  kernel_initializer = tf.keras.initializers.he_normal(seed= 43))(x)\n",
    "    x = tf.keras.layers.MaxPooling2D((2, 2), strides=(2, 2))(x)\n",
    "    x = tf.keras.layers.Dropout(0.25)(x)\n",
    "    \n",
    "    x = tf.keras.layers.Conv2D(128, (3, 3), activation='relu', padding='same', kernel_initializer = tf.keras.initializers.he_normal(seed= 32))(x)\n",
    "    x = tf.keras.layers.BatchNormalization()(x)\n",
    "    x = tf.keras.layers.Conv2D(128, (3, 3), activation='relu', padding='same', kernel_initializer = tf.keras.initializers.he_normal(seed= 41))(x)\n",
    "\n",
    "    x = tf.keras.layers.Conv2D(128, (3, 3), activation='relu', padding='same', kernel_initializer = tf.keras.initializers.he_normal(seed= 33))(x)\n",
    "    x = tf.keras.layers.BatchNormalization()(x)\n",
    "    x = tf.keras.layers.MaxPooling2D((2, 2), strides=(2, 2))(x)\n",
    "    x = tf.keras.layers.Dropout(0.5)(x)\n",
    "\n",
    "    x = tf.keras.layers.Conv2D(256, (3, 3), activation='relu', padding='same', kernel_initializer = tf.keras.initializers.he_normal(seed= 35))(x)\n",
    "    x = tf.keras.layers.BatchNormalization()(x)\n",
    "    x = tf.keras.layers.Conv2D(256, (3, 3), activation='relu', padding='same', kernel_initializer = tf.keras.initializers.he_normal(seed= 54))(x)\n",
    "    x = tf.keras.layers.BatchNormalization()(x)\n",
    "    x = tf.keras.layers.Conv2D(256, (3, 3), activation='relu', padding='same', kernel_initializer = tf.keras.initializers.he_normal(seed= 39))(x)\n",
    "    x = tf.keras.layers.BatchNormalization()(x)\n",
    "    x = tf.keras.layers.Dropout(0.5)(x)\n",
    "    \n",
    "    #Decoder\n",
    "    \n",
    "    x = tf.keras.layers.UpSampling2D(size=(2, 2))(x)\n",
    "    x = tf.keras.layers.Conv2D(128, kernel_size=3, activation='relu', padding='same', kernel_initializer = tf.keras.initializers.he_normal(seed= 45))(x)\n",
    "    x = tf.keras.layers.Conv2D(128, kernel_size=3, activation='relu', padding='same', kernel_initializer = tf.keras.initializers.he_normal(seed= 41))(x)\n",
    "    x = tf.keras.layers.BatchNormalization()(x)\n",
    "    x = tf.keras.layers.Conv2D(128, kernel_size=3, activation='relu', padding='same', kernel_initializer = tf.keras.initializers.he_normal(seed= 49))(x)\n",
    "    x = tf.keras.layers.BatchNormalization()(x)\n",
    "    x = tf.keras.layers.Dropout(0.25)(x)\n",
    "      \n",
    "    x = tf.keras.layers.UpSampling2D(size=(2, 2))(x)\n",
    "    x = tf.keras.layers.Conv2D(64, kernel_size=3, activation='relu', padding='same', kernel_initializer = tf.keras.initializers.he_normal(seed= 18))(x)\n",
    "    x = tf.keras.layers.BatchNormalization()(x)\n",
    "    x = tf.keras.layers.Conv2D(64, kernel_size=3, activation='relu', padding='same', kernel_initializer = tf.keras.initializers.he_normal(seed= 21))(x)\n",
    "    x = tf.keras.layers.BatchNormalization()(x)\n",
    "    x = tf.keras.layers.Conv2D(classes, kernel_size=3, activation='relu', padding='same', kernel_initializer = tf.keras.initializers.he_normal(seed= 16))(x)\n",
    "    x = tf.keras.layers.Dropout(0.25)(x)\n",
    "  \n",
    "    x = tf.keras.layers.Activation(\"softmax\")(x)\n",
    "    \n",
    "    model = tf.keras.Model(img_input, x)\n",
    "  \n",
    "    model.compile(optimizer=tf.keras.optimizers.Adam(lr=1e-4),loss='binary_crossentropy', metrics=[jaccard_coef])\n",
    "    return model"
   ]
  },
  {
   "cell_type": "code",
   "execution_count": 104,
   "id": "42f2375d",
   "metadata": {},
   "outputs": [],
   "source": [
    "model = SegNet()\n",
    "model.load_weights(\"model-weights.hdf5\")\n",
    "img = adjust_contrast(M(1)).copy()\n",
    "res = model.predict(img.reshape((1, 160, 160, 8)))\n",
    "threshold = 0.5\n",
    "pred_binary_mask = res >= threshold\n",
    "\n",
    "\n",
    "# Get all the predicted classes into a dataframe\n",
    "DF  = pd.DataFrame(columns=[\"image\", \"class\", \"poly\", 'Multi'])\n",
    "image, cl , ploy, t_l = [],[],[], []\n",
    "i = 0\n",
    "for j in range(10):\n",
    "    ab = mask_to_polygons(pred_binary_mask[0, :,:,j], epsilon=1)\n",
    "    t = shapely.wkt.dumps(ab)\n",
    "    t_l.append(t)\n",
    "    image.append(i+1)\n",
    "    cl.append(j+1)\n",
    "    ploy.append(len(ab))\n",
    "    df = pd.DataFrame(list(zip(image, cl, ploy, t_l)), columns = ['image', 'class', 'poly', 'Multi'])\n",
    "DF = pd.concat([DF,df], ignore_index=True)"
   ]
  },
  {
   "cell_type": "code",
   "execution_count": 105,
   "metadata": {},
   "outputs": [
    {
     "output_type": "execute_result",
     "data": {
      "text/plain": [
       "  image class poly                                              Multi\n",
       "0     1     1    0                           GEOMETRYCOLLECTION EMPTY\n",
       "1     1     2    0                           GEOMETRYCOLLECTION EMPTY\n",
       "2     1     3    0                           GEOMETRYCOLLECTION EMPTY\n",
       "3     1     4    1  MULTIPOLYGON (((119.0000000000000000 155.00000...\n",
       "4     1     5   65  MULTIPOLYGON (((129.0000000000000000 154.00000...\n",
       "5     1     6    8  MULTIPOLYGON (((133.0000000000000000 1.0000000...\n",
       "6     1     7    0                           GEOMETRYCOLLECTION EMPTY\n",
       "7     1     8    0                           GEOMETRYCOLLECTION EMPTY\n",
       "8     1     9    0                           GEOMETRYCOLLECTION EMPTY\n",
       "9     1    10    0                           GEOMETRYCOLLECTION EMPTY"
      ],
      "text/html": "<div>\n<style scoped>\n    .dataframe tbody tr th:only-of-type {\n        vertical-align: middle;\n    }\n\n    .dataframe tbody tr th {\n        vertical-align: top;\n    }\n\n    .dataframe thead th {\n        text-align: right;\n    }\n</style>\n<table border=\"1\" class=\"dataframe\">\n  <thead>\n    <tr style=\"text-align: right;\">\n      <th></th>\n      <th>image</th>\n      <th>class</th>\n      <th>poly</th>\n      <th>Multi</th>\n    </tr>\n  </thead>\n  <tbody>\n    <tr>\n      <th>0</th>\n      <td>1</td>\n      <td>1</td>\n      <td>0</td>\n      <td>GEOMETRYCOLLECTION EMPTY</td>\n    </tr>\n    <tr>\n      <th>1</th>\n      <td>1</td>\n      <td>2</td>\n      <td>0</td>\n      <td>GEOMETRYCOLLECTION EMPTY</td>\n    </tr>\n    <tr>\n      <th>2</th>\n      <td>1</td>\n      <td>3</td>\n      <td>0</td>\n      <td>GEOMETRYCOLLECTION EMPTY</td>\n    </tr>\n    <tr>\n      <th>3</th>\n      <td>1</td>\n      <td>4</td>\n      <td>1</td>\n      <td>MULTIPOLYGON (((119.0000000000000000 155.00000...</td>\n    </tr>\n    <tr>\n      <th>4</th>\n      <td>1</td>\n      <td>5</td>\n      <td>65</td>\n      <td>MULTIPOLYGON (((129.0000000000000000 154.00000...</td>\n    </tr>\n    <tr>\n      <th>5</th>\n      <td>1</td>\n      <td>6</td>\n      <td>8</td>\n      <td>MULTIPOLYGON (((133.0000000000000000 1.0000000...</td>\n    </tr>\n    <tr>\n      <th>6</th>\n      <td>1</td>\n      <td>7</td>\n      <td>0</td>\n      <td>GEOMETRYCOLLECTION EMPTY</td>\n    </tr>\n    <tr>\n      <th>7</th>\n      <td>1</td>\n      <td>8</td>\n      <td>0</td>\n      <td>GEOMETRYCOLLECTION EMPTY</td>\n    </tr>\n    <tr>\n      <th>8</th>\n      <td>1</td>\n      <td>9</td>\n      <td>0</td>\n      <td>GEOMETRYCOLLECTION EMPTY</td>\n    </tr>\n    <tr>\n      <th>9</th>\n      <td>1</td>\n      <td>10</td>\n      <td>0</td>\n      <td>GEOMETRYCOLLECTION EMPTY</td>\n    </tr>\n  </tbody>\n</table>\n</div>"
     },
     "metadata": {},
     "execution_count": 105
    }
   ],
   "source": [
    "DF"
   ]
  },
  {
   "cell_type": "code",
   "execution_count": 96,
   "metadata": {},
   "outputs": [
    {
     "output_type": "execute_result",
     "data": {
      "text/plain": [
       "  image class poly                                              Multi\n",
       "0     1     1    0                           GEOMETRYCOLLECTION EMPTY\n",
       "1     1     2    0                           GEOMETRYCOLLECTION EMPTY\n",
       "2     1     3    0                           GEOMETRYCOLLECTION EMPTY\n",
       "3     1     4    1  MULTIPOLYGON (((119.0000000000000000 155.00000...\n",
       "4     1     5   65  MULTIPOLYGON (((129.0000000000000000 154.00000...\n",
       "5     1     6    8  MULTIPOLYGON (((133.0000000000000000 1.0000000...\n",
       "6     1     7    0                           GEOMETRYCOLLECTION EMPTY\n",
       "7     1     8    0                           GEOMETRYCOLLECTION EMPTY\n",
       "8     1     9    0                           GEOMETRYCOLLECTION EMPTY\n",
       "9     1    10    0                           GEOMETRYCOLLECTION EMPTY"
      ],
      "text/html": "<div>\n<style scoped>\n    .dataframe tbody tr th:only-of-type {\n        vertical-align: middle;\n    }\n\n    .dataframe tbody tr th {\n        vertical-align: top;\n    }\n\n    .dataframe thead th {\n        text-align: right;\n    }\n</style>\n<table border=\"1\" class=\"dataframe\">\n  <thead>\n    <tr style=\"text-align: right;\">\n      <th></th>\n      <th>image</th>\n      <th>class</th>\n      <th>poly</th>\n      <th>Multi</th>\n    </tr>\n  </thead>\n  <tbody>\n    <tr>\n      <th>0</th>\n      <td>1</td>\n      <td>1</td>\n      <td>0</td>\n      <td>GEOMETRYCOLLECTION EMPTY</td>\n    </tr>\n    <tr>\n      <th>1</th>\n      <td>1</td>\n      <td>2</td>\n      <td>0</td>\n      <td>GEOMETRYCOLLECTION EMPTY</td>\n    </tr>\n    <tr>\n      <th>2</th>\n      <td>1</td>\n      <td>3</td>\n      <td>0</td>\n      <td>GEOMETRYCOLLECTION EMPTY</td>\n    </tr>\n    <tr>\n      <th>3</th>\n      <td>1</td>\n      <td>4</td>\n      <td>1</td>\n      <td>MULTIPOLYGON (((119.0000000000000000 155.00000...</td>\n    </tr>\n    <tr>\n      <th>4</th>\n      <td>1</td>\n      <td>5</td>\n      <td>65</td>\n      <td>MULTIPOLYGON (((129.0000000000000000 154.00000...</td>\n    </tr>\n    <tr>\n      <th>5</th>\n      <td>1</td>\n      <td>6</td>\n      <td>8</td>\n      <td>MULTIPOLYGON (((133.0000000000000000 1.0000000...</td>\n    </tr>\n    <tr>\n      <th>6</th>\n      <td>1</td>\n      <td>7</td>\n      <td>0</td>\n      <td>GEOMETRYCOLLECTION EMPTY</td>\n    </tr>\n    <tr>\n      <th>7</th>\n      <td>1</td>\n      <td>8</td>\n      <td>0</td>\n      <td>GEOMETRYCOLLECTION EMPTY</td>\n    </tr>\n    <tr>\n      <th>8</th>\n      <td>1</td>\n      <td>9</td>\n      <td>0</td>\n      <td>GEOMETRYCOLLECTION EMPTY</td>\n    </tr>\n    <tr>\n      <th>9</th>\n      <td>1</td>\n      <td>10</td>\n      <td>0</td>\n      <td>GEOMETRYCOLLECTION EMPTY</td>\n    </tr>\n  </tbody>\n</table>\n</div>"
     },
     "metadata": {},
     "execution_count": 96
    }
   ],
   "source": [
    "DF"
   ]
  },
  {
   "source": [
    "import requests\n",
    "import base64\n",
    "\n",
    "with open(\"vlj_img_1029.tiff\", \"rb\") as image_file:\n",
    "    #base64.b64encode(image_file.read()).decode('utf-8')\n",
    "    data = image_file.read()\n",
    "    r = requests.post(\"https://hxy1cn1sl8.execute-api.us-east-1.amazonaws.com/Prod/segment_tiff\", data=data)\n",
    "    print(r.status_code)"
   ],
   "cell_type": "code",
   "metadata": {},
   "execution_count": 28,
   "outputs": [
    {
     "output_type": "stream",
     "name": "stdout",
     "text": [
      "502\n"
     ]
    }
   ]
  },
  {
   "cell_type": "code",
   "execution_count": 30,
   "metadata": {},
   "outputs": [
    {
     "output_type": "execute_result",
     "data": {
      "text/plain": [
       "<Response [502]>"
      ]
     },
     "metadata": {},
     "execution_count": 30
    }
   ],
   "source": [
    "r"
   ]
  },
  {
   "cell_type": "code",
   "execution_count": 16,
   "metadata": {},
   "outputs": [
    {
     "output_type": "execute_result",
     "data": {
      "text/plain": [
       "<_io.BufferedReader name='vlj_img_1029.tiff'>"
      ]
     },
     "metadata": {},
     "execution_count": 16
    }
   ],
   "source": [
    "image_file"
   ]
  },
  {
   "cell_type": "code",
   "execution_count": null,
   "metadata": {},
   "outputs": [],
   "source": []
  }
 ],
 "metadata": {
  "kernelspec": {
   "display_name": "servtestenv",
   "language": "python",
   "name": "servtestenv"
  },
  "language_info": {
   "codemirror_mode": {
    "name": "ipython",
    "version": 3
   },
   "file_extension": ".py",
   "mimetype": "text/x-python",
   "name": "python",
   "nbconvert_exporter": "python",
   "pygments_lexer": "ipython3",
   "version": "3.9.6-final"
  }
 },
 "nbformat": 4,
 "nbformat_minor": 5
}